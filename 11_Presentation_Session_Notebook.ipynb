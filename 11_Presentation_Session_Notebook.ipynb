{
 "cells": [
  {
   "cell_type": "markdown",
   "id": "60805a33",
   "metadata": {},
   "source": [
    "## Session 11: Publicaton & Presentation (18.07.2023)\n",
    "\n",
    "by Thomas Jurczyk (Dr. Eberle Zentrum, Universität Tübingen)\n",
    "\n",
    "Version: 0.1 (06.07.2023)"
   ]
  },
  {
   "cell_type": "markdown",
   "id": "df0854e8",
   "metadata": {},
   "source": [
    "In this session, we will discuss several ways in which Jupyter Notebooks and the analyses created within them can be prepared for publication or presentation.\n",
    "\n",
    "We will cover the following topics:\n",
    "\n",
    "1. General options for publishing Jupyter Notebooks or their contents.\n",
    "2. Ways to use Jupyter Notebooks for presentation purposes.\n",
    "3. GUI creation using ipywidgets."
   ]
  },
  {
   "cell_type": "markdown",
   "id": "51735a05",
   "metadata": {},
   "source": [
    "## Publishing Jupyter Notebooks"
   ]
  },
  {
   "cell_type": "markdown",
   "id": "9023ad4f",
   "metadata": {},
   "source": [
    "### Medium.com\n",
    "One relatively simple option is to publish the projects on [Medium.com](https://medium.com/). Medium.com is a popular blogging platform that allows for easy publication of posts on various topics. It is particularly interesting because it has a large community and offers a wide range of tutorials and articles, especially in the areas of technology, IT, data science, and AI. This means that your posts have the potential to reach a large and engaged readership.\n",
    "\n",
    "To publish your posts on Medium.com, you will need to manually insert them there, but the process is straightforward. Code inclusion can be done using [GitHub gists](https://gist.github.com/), which allow you to share code snippets.\n",
    "\n",
    "Here's an example of the Twitter analysis I presented on the topic of \"Climate Change\": [Link](https://medium.com/mlearning-ai/analyzing-the-discourse-on-climate-change-in-u-s-1dd029e58420)"
   ]
  },
  {
   "cell_type": "markdown",
   "id": "d2f52add",
   "metadata": {},
   "source": [
    "### GitHub Pages\n",
    "\n",
    "If you have a GitHub account, you can also use [GitHub Pages](https://pages.github.com/) to publish your notebooks by first converting them to HTML format and then uploading them to a repository on GitHub.\n",
    "\n",
    "Here's how you can do it (basic knowledge of git is assumed):\n",
    "\n",
    "1. Create a repository either locally or on GitHub.\n",
    "2. Clone the repository (if you created it on GitHub).\n",
    "3. Create the notebook in the repository or add it to the repository.\n",
    "4. Install `nbconvert` (via `pip install nbconvert`).\n",
    "5. Convert the Jupyter Notebook to an HTML file by running the following command: `jupyter nbconvert --to html --output index.html notebook.ipynb` (where `notebook.ipynb` is the notebook you want to convert).\n",
    "6. Add and commit all files as usual using `git add .` and `git commit -m \"message\"`, then push the changes to your repository.\n",
    "7. Next, go to your repository on GitHub and navigate to the \"Settings\" tab. Look for the \"Pages\" section (see the screenshot below). Choose the appropriate branch (most likely `main` or `master` unless you have made changes) and click on \"Save\".\n",
    "8. Now, your Jupyter Notebook is available at `https://<username>.github.io/<repository-name>` (for example, [Link supervised learning notebook.](https://thomjur.github.io/supervised_learning/)).\n",
    "\n",
    "![GitHub Pages settings.](github_pages_1.png)"
   ]
  },
  {
   "cell_type": "markdown",
   "id": "97d95be0",
   "metadata": {},
   "source": [
    "## Slideshows\n",
    "\n",
    "You can also convert your Jupyter Notebooks into JavaScript-based presentations. To do this, you may need to install some additional packages or extensions for Jupyter Notebooks.\n",
    "\n",
    "1. Install Jupyter extensions using `pip install jupyter_contrib_nbextensions`.\n",
    "2. Activate the extensions in your notebooks using `jupyter contrib nbextension install` (you may need to restart the notebook server for the extensions to take effect).\n",
    "\n",
    "Now you can enable the \"Slideshow\" mode in your Jupyter Notebooks, as shown in the screenshot below.\n",
    "\n",
    "![Activate slideshow for Jupyter Notebooks.](jn_slideshow.png)\n",
    "\n",
    "After that, you can choose a slide type for each cell. Once you have done that, there are two options:\n",
    "\n",
    "1. You can convert the Jupyter Notebook into an HTML slideshow and then start it. The command for this is as follows: `jupyter nbconvert --to slides --output presentation notebook.ipynb`. You can then start the presentation in your browser by opening the generated HTML file.\n",
    "2. If you install the RISE extension, you can also start the presentation directly within the notebook. To install and activate RISE, use the following commands: `pip install rise`, `jupyter-nbextension install rise --py --sys-prefix`, and `jupyter-nbextension enable rise --py --sys-prefix`.\n",
    "\n",
    "After that, you can start the presentation from within the Jupyter Notebook using a small icon (see screenshot).\n",
    "\n",
    "![Starting a presentation from Jupyter Notebook](jn_slideshow_2.png)"
   ]
  },
  {
   "cell_type": "markdown",
   "id": "94057d54",
   "metadata": {},
   "source": [
    "## GUI mit ipywidgets\n",
    "\n",
    "[ipywidgets](https://ipywidgets.readthedocs.io/en/latest/index.html) is a powerful way to make your notebooks interactive and implement a graphical user interface (GUI) that simplifies access to your analysis or program for other people. However, it can also be useful to set up GUI elements for better usability during your own analyses. You can install ipywidgets as usual using `pip install ipywidgets`.\n",
    "\n",
    "The following example can only provide a brief overview of the possibilities of ipywidgets since GUI development and human-computer interactions are extensive topics on their own."
   ]
  },
  {
   "cell_type": "markdown",
   "id": "3c74fc28",
   "metadata": {},
   "source": [
    "### Example: Interactive Histogram for Normal/Uniform Distributions\n",
    "We would like to develop a small program that enables interactive exploration of the normal distribution using a histogram. To accomplish this, we want to provide the user with the ability to specify the number of data points and adjust the number of bins used in the histogram."
   ]
  },
  {
   "cell_type": "code",
   "execution_count": 47,
   "id": "02e80c83",
   "metadata": {},
   "outputs": [],
   "source": [
    "import ipywidgets as widgets\n",
    "import matplotlib.pyplot as plt\n",
    "from IPython.display import display, HTML\n",
    "import numpy as np"
   ]
  },
  {
   "cell_type": "code",
   "execution_count": 78,
   "id": "7768c1a1",
   "metadata": {},
   "outputs": [],
   "source": [
    "# creating int-slider widget for the number of datapoints\n",
    "number = widgets.IntSlider(min=10, max=100000, description=\"Datapoints:\", continuous_update=False)"
   ]
  },
  {
   "cell_type": "code",
   "execution_count": 79,
   "id": "5fb93a17",
   "metadata": {},
   "outputs": [],
   "source": [
    "# creating int-slider widget for the number of bins in the histogram\n",
    "bins = widgets.IntSlider(min=10, max=1000, description=\"Bins:\", continuous_update=False)"
   ]
  },
  {
   "cell_type": "code",
   "execution_count": 80,
   "id": "ce50e73a",
   "metadata": {},
   "outputs": [],
   "source": [
    "# creating radio buttons to select the distribution (normal, uniform)\n",
    "distro = widgets.RadioButtons(options=['normal', 'uniform'], value='normal', description='Distribution:', disabled=False)"
   ]
  },
  {
   "cell_type": "code",
   "execution_count": 81,
   "id": "3b6ac092",
   "metadata": {},
   "outputs": [],
   "source": [
    "# creating a title for our GUI\n",
    "title = widgets.HTML(value=\"<h1>Data Visualization: Normal/Uniform Distributions</h1>\")"
   ]
  },
  {
   "cell_type": "code",
   "execution_count": 82,
   "id": "b8aa321d",
   "metadata": {},
   "outputs": [
    {
     "data": {
      "text/html": [
       "<h1>Data Visualization: Normal/Uniform Distributions</h1>"
      ],
      "text/plain": [
       "<IPython.core.display.HTML object>"
      ]
     },
     "metadata": {},
     "output_type": "display_data"
    },
    {
     "data": {
      "application/vnd.jupyter.widget-view+json": {
       "model_id": "0b7defdb26ea4aa29f35825f6d6c1961",
       "version_major": 2,
       "version_minor": 0
      },
      "text/plain": [
       "HBox(children=(VBox(children=(RadioButtons(description='Distribution:', options=('normal', 'uniform'), value='…"
      ]
     },
     "execution_count": 82,
     "metadata": {},
     "output_type": "execute_result"
    }
   ],
   "source": [
    "def create_histogram(number: int, bins: int, distro: str):\n",
    "    '''Function to display normal/uniform distributions. Updated by ipywidgets.'''\n",
    "    if distro==\"normal\":\n",
    "        distribution = np.random.randn(number)\n",
    "    else:\n",
    "        distribution = np.random.rand(number)\n",
    "    plt.hist(distribution, bins=bins)\n",
    "\n",
    "# creating an interactive output where we map the widgets to the arguments of our function\n",
    "out = widgets.interactive_output(create_histogram, {'number': number, 'bins': bins, 'distro': distro})\n",
    "\n",
    "# display title\n",
    "display(HTML(title.value))\n",
    "\n",
    "# display the elements in a certain order\n",
    "widgets.HBox([widgets.VBox([distro, number, bins]), out])"
   ]
  }
 ],
 "metadata": {
  "kernelspec": {
   "display_name": "Python 3 (ipykernel)",
   "language": "python",
   "name": "python3"
  },
  "language_info": {
   "codemirror_mode": {
    "name": "ipython",
    "version": 3
   },
   "file_extension": ".py",
   "mimetype": "text/x-python",
   "name": "python",
   "nbconvert_exporter": "python",
   "pygments_lexer": "ipython3",
   "version": "3.8.10"
  }
 },
 "nbformat": 4,
 "nbformat_minor": 5
}
