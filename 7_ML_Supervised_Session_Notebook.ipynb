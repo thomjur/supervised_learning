{
 "cells": [
  {
   "cell_type": "markdown",
   "id": "369b2763",
   "metadata": {},
   "source": [
    "# Machine Learning 1: Supervised Learning (13.06.2023)\n",
    "by Thomas Jurczyk (Dr. Eberle Zentrum, Universität Tübingen)\n",
    "\n",
    "Version: 0.2 (27.03.2023)"
   ]
  },
  {
   "cell_type": "markdown",
   "id": "6da396f4",
   "metadata": {},
   "source": [
    "In this section of the course, we will delve into the subject of the fundamental principles and techniques of machine learning. While we will only scratch the surface of this vast field, we will learn how to train and apply basic machine learning models in Python.\n",
    "\n",
    "But before we start, let's define what machine learning is.\n",
    "\n",
    "> Machine learning is the field of study that gives computers the ability to learn without being explicitly programmed. (Arthur Samuel, 1959)\n",
    "\n",
    "The above statement is a reference to a quote from the book *Hands-On Machine Learning with Scikit-Learn and TensorFlow* by Aurelien Géron (ISBN: 1491962291), a highly recommended resource for those seeking to learn more about machine learning with Python from an applied perspective."
   ]
  },
  {
   "cell_type": "markdown",
   "id": "796351b0",
   "metadata": {},
   "source": [
    "The field of machine learning is categorized into three main areas:\n",
    "\n",
    "1. **Supervised learning**\n",
    "2. **Unsupervised learning**\n",
    "3. **Reinforcement learning**\n",
    "\n",
    "In this course, we will concentrate on two of these areas, namely **supervised learning** and **unsupervised learning** (the latter being the subject of the following session)."
   ]
  },
  {
   "cell_type": "markdown",
   "id": "3644db44",
   "metadata": {},
   "source": [
    "# What is supervised learning?\n",
    "Supervised learning involves training a machine learning model using a dataset that already contains the desired labels to be predicted. This type of learning is commonly used for **classification** tasks, which can be binary (e.g., \"spam\" or \"not spam\" for emails) or multi-class (e.g., \"low,\" \"medium,\" and \"high\" for the creditworthiness of a person). If the aim is to predict continuous labels such as housing prices, the process is referred to as **regression**.\n",
    "\n",
    "For example, suppose we want to analyze Twitter data related to \"climate change\" and train a machine learning model to predict whether a tweet expresses a critical/affirmative stance towards climate change or a negative/neglecting one. We assume that we already have a previously annotated data set with exemplary tweets which either accept or ignore/downplay climate change, which means that we are confronted with a task situated in the field of supervised learning. In this case, the data we use to train our supervised learning algorithm will contain information like:\n",
    "\n",
    "| tweet | label |\n",
    "|:------|:------|\n",
    "|Climate change is dangerous and we need to stop it!|1|\n",
    "|The measures against climate change are nonsense. We need to leave the Paris agreement RIGHT NOW!|0|\n",
    "|I am REALLY desperate. It's getting warmer and warmer every winter...|1|\n",
    "|....|...|\n",
    "\n",
    "In this table, the label `1` denotes a critical/affirmative stance towards climate change, whereas `0` indicates a negative/neglecting one.\n",
    "\n",
    "The initial step is to provide this data, separated into features (`tweet`) and labels (`label`), to our machine learning algorithm. The algorithm will then learn how to predict the correct label based on the input feature (which, in our example, is just text). The approach used by the algorithm to accomplish this depends on the specific learning algorithm, with various techniques suited to different types of data and tasks.\n",
    "\n",
    "Once our model has been trained on our training dataset, it will provide us with an estimate of how successful the classification is. The most fundamental measure for this is **accuracy**, which indicates the percentage of true positives (i.e., critical tweets) and true negatives (negative/neglecting tweets):\n",
    "\n",
    "$\\frac{T_P + T_N}{N}$\n",
    "\n",
    "Although accuracy can be a suitable means of assessing the performance of our classifier, it is generally advisable to utilize other metrics as well. This is particularly crucial if our label distribution is biased. For instance, if we have a dataset with 100 entries, of which 99 are labeled \"1\" and only one is labeled \"0,\" predicting \"1\" for every entry would result in an accuracy of 99%! However, a model that always predicts \"1\" is essentially useless.\n",
    "\n",
    "As a result, it is often recommended to employ additional scores instead. For instance, to assess the performance of a (binary) classifier, a confusion matrix can be used.\n",
    "\n",
    "## Confusion matrix\n",
    "\n",
    "Suppose our dataset comprises 23 positive cases (labeled \"1\") and 18 negative cases (labeled \"0\"). Our machine learning classifier classifies 19 of the 23 positive cases as \"1\" (true positives) and 10 of the 18 negative cases as \"0\" (true negatives), resulting in an accuracy of approximately 70%.\n",
    "\n",
    "Our confusion matrix would then look like this (EP: estimated positives, EN: estimated negatives):\n",
    "\n",
    "||**P**|**N**|\n",
    "|:--:|:---:|:----:|\n",
    "|**EP**|19|8|\n",
    "|**EN**|4|10|\n",
    "\n",
    "These values can be used to compute various estimators of our machine learning model's performance, with two popular metrics being **precision** and **recall**.\n",
    "\n",
    "### Precision\n",
    "\n",
    "How accurate is the estimated number of positive cases?\n",
    "\n",
    "$\\frac{T_P}{T_P+F_P}$\n",
    "\n",
    "$\\frac{19}{19+8}=0.7$\n",
    "\n",
    "(For the negative cases: $\\frac{10}{10+4}=0.71$)\n",
    "\n",
    "### Recall\n",
    "\n",
    "How many positive cases have been identified?\n",
    "\n",
    "$\\frac{T_P}{T_P+F_N}$\n",
    "\n",
    "$\\frac{19}{19+4}=0.83$\n",
    "\n",
    "(For the negative cases: $\\frac{10}{10+8}=0.55$)\n",
    "\n",
    "### F<sub>1</sub> score\n",
    "\n",
    "Both precision and recall are often combined in a single number, the so-called F<sub>1</sub> score.\n",
    "\n",
    "$\\frac{2*Precision*Recall}{Precision+Recall}$\n",
    "\n",
    "$\\frac{2*0.7*0.83}{0.7+0.83}=0.76$\n",
    "\n",
    "(For the negative cases: $\\frac{2*0.7*0.55}{0.7+0.55}=0.56$)\n",
    "\n",
    "## Train/Test sets\n",
    "Another prevalent approach is to partition the labeled training dataset into two distinct sets: the train and test sets. The training set, as the name implies, is utilized to train the classifier, while the test set is only used in the final stages of the training process to assess how well the model performs on unfamiliar data. If the model performs exceptionally well on the training set but poorly on the test set, this can indicate **overfitting**, implying that the model is unable to generalize from the data it has been trained on.\n",
    "\n",
    "It is typical to divide the dataset into **75%** (or 80%) for training and **25%** (or 20%) for testing. Note: Be sure to use stratified sampling to avoid the worst-case scenario of having all positive labels in the test set and all negative labels in the training set.\n",
    "\n",
    "## Different types of (supervised) machine learning algorithms\n",
    "\n",
    "There are numerous machine learning algorithms available, and it is often recommended to train multiple models on the same dataset and compare their performance to determine the best one.\n",
    "\n",
    "There is no one-size-fits-all approach to determining which algorithm to use, as the optimal machine learning algorithm for text classification will be influenced by several factors, including the amount and quality of training data, the complexity of the classification task, and the available computational resources. Some popular algorithms for text classification include **support vector machines**, **decision trees**, and **random forests** (or **recurrent neural networks** in the context of deep learning). Generally, it is a good idea to experiment with several algorithms and compare their performance to identify the best one for your specific use case (or to use all of them and take a majority vote for the final prediction, which is known as ensemble learning).\n",
    "\n",
    "In our example, we will employ random forests for text classification.\n",
    "\n",
    "## Random forests\n",
    "\n",
    "Random forests are a type of ensemble learning algorithm, which means that they use a collection of individual \"decision trees\" to make predictions. Each tree in the random forest is a decision tree, which makes predictions based on the features of the input data. A decision tree is a tree-like model in which each internal node represents a feature, each branch represents a decision based on that feature, and each leaf node represents a prediction.\n",
    "\n",
    "![Example of a single decision tree of the survival of passengers from the Titanic (Source: Wikipedia).](Decision_Tree.jpg)\n",
    "\n",
    "To make a prediction using a random forest classifier, the algorithm first splits the input data into multiple subsets and trains a decision tree on each subset. This is known as bootstrapping, and it helps to reduce overfitting and improve the overall performance of the model. Then, the predictions made by each individual tree are combined using a majority vote or another ensemble method to produce the final prediction. This combination of predictions helps to reduce the variance and improve the accuracy of the model.\n",
    "\n",
    "## K-Nearest Neighbors\n",
    "\n",
    "Another popular machine learning algorithm for classification tasks is k-nearest neighbors (short: knn).\n",
    "\n",
    "> An object is classified by a plurality vote of its neighbors, with the object being assigned to the class most common among its k nearest neighbors (k is a positive integer, typically small). If k = 1, then the object is simply assigned to the class of that single nearest neighbor. (Source: [Wikipedia](https://en.wikipedia.org/wiki/K-nearest_neighbors_algorithm))\n",
    "\n",
    "![Diagram for KNN (source: sciencenet.cn).](knn.png)\n",
    "\n",
    "\n",
    "## Conclusion\n",
    "We won't go into the details of how these machine learning algorithms work (for instance, how the decision tree algorithm decides which feature in the first node etc.). If you want to know more in this regard, please consult the literature or the corresponding documentations. There are numerous machine learning algorithms available, and we have only introduced two that are considered basic and easy to understand. Generally, it is advisable to train multiple models and compare their performance. In the upcoming sections of this notebook, we will employ scikit-learn to apply machine learning, and the good news is that the overall process of training a model with scikit-learn is quite similar regardless of which algorithm we choose."
   ]
  },
  {
   "cell_type": "markdown",
   "id": "9494b7b7",
   "metadata": {},
   "source": [
    "---"
   ]
  },
  {
   "cell_type": "markdown",
   "id": "3926e064",
   "metadata": {},
   "source": [
    "# Training a machine learning model with scikit-learn\n",
    "\n",
    "## Loading data\n",
    "In this example, we will once more work with the Twitter data that we've already cleaned and transformed in the previous notebooks. Even though handling textual data demands some special treatment, the overall procedure is pretty similar for other data types, too.\n",
    "\n",
    "Before we can start with the actual training part, we first need to load our previously cleaned and transformed data set into our notebook."
   ]
  },
  {
   "cell_type": "code",
   "execution_count": 1,
   "id": "307ecd61",
   "metadata": {},
   "outputs": [],
   "source": [
    "import pandas as pd"
   ]
  },
  {
   "cell_type": "code",
   "execution_count": 2,
   "id": "02091240",
   "metadata": {},
   "outputs": [],
   "source": [
    "# add the path to the HDF storage here\n",
    "store = pd.HDFStore(\"ds_store_2023.h5\")"
   ]
  },
  {
   "cell_type": "code",
   "execution_count": 3,
   "id": "0194bc36",
   "metadata": {},
   "outputs": [],
   "source": [
    "df = store[\"df_annotated\"]"
   ]
  },
  {
   "cell_type": "code",
   "execution_count": 4,
   "id": "d53361c8",
   "metadata": {},
   "outputs": [
    {
     "name": "stdout",
     "output_type": "stream",
     "text": [
      "<class 'pandas.core.frame.DataFrame'>\n",
      "Int64Index: 10284 entries, 0 to 10283\n",
      "Data columns (total 18 columns):\n",
      " #   Column                        Non-Null Count  Dtype              \n",
      "---  ------                        --------------  -----              \n",
      " 0   text                          10284 non-null  object             \n",
      " 1   author_id                     10284 non-null  object             \n",
      " 2   id                            10284 non-null  object             \n",
      " 3   created_at                    10284 non-null  object             \n",
      " 4   public_metrics.retweet_count  10284 non-null  int64              \n",
      " 5   public_metrics.reply_count    10284 non-null  int64              \n",
      " 6   public_metrics.like_count     10284 non-null  int64              \n",
      " 7   public_metrics.quote_count    10284 non-null  int64              \n",
      " 8   url.count                     10284 non-null  int64              \n",
      " 9   url.list                      5037 non-null   object             \n",
      " 10  hashtag.count                 10284 non-null  int64              \n",
      " 11  hashtag.list                  2194 non-null   object             \n",
      " 12  annotation.count              10284 non-null  int64              \n",
      " 13  annotation.list               3463 non-null   object             \n",
      " 14  attachments                   10284 non-null  int64              \n",
      " 15  date                          10284 non-null  datetime64[ns, UTC]\n",
      " 16  clean_text                    10284 non-null  object             \n",
      " 17  annotation                    10284 non-null  int64              \n",
      "dtypes: datetime64[ns, UTC](1), int64(9), object(8)\n",
      "memory usage: 1.5+ MB\n"
     ]
    }
   ],
   "source": [
    "df.info()"
   ]
  },
  {
   "cell_type": "markdown",
   "id": "e56e9050",
   "metadata": {},
   "source": [
    "## Data annotation\n",
    "Remember that we want to apply a supervised learning approach. Consequently, we must label our data or acquire existing labels that we aim to predict.\n",
    "\n",
    "As an exemplary task, our objective of the machine learning component of this analysis is to develop a classifier capable of **categorizing tweets as either \"positive\" (= accepting) or \"negative\" (= neglecting/downplaying) towards climate change and its effects**.\n",
    "\n",
    "At present, we lack these labels, implying that we must first annotate our data. Although this may seem \"trivial,\" the data annotation process is frequently more intricate than one might anticipate and necessitates specialized expertise. However, since our focus in this seminar is on the methods, we will keep things as straightforward as possible.\n",
    "\n",
    "To annotate our data, we will create a function that enables us to manually classify each tweet as \"1\" (positive/neutral) or \"0\" (negative/neglecting). To start training our machine learning classifier, I suggest that we annotate at least several hundred tweets (yet, the more the better), which is something that I have already done in advance."
   ]
  },
  {
   "cell_type": "code",
   "execution_count": 5,
   "id": "e2b551f0",
   "metadata": {},
   "outputs": [],
   "source": [
    "from IPython.display import clear_output\n",
    "import time\n",
    "\n",
    "def annotate(df: pd.DataFrame, storage_path: str=\"../5_Cleaning_Transformation/\") -> pd.DataFrame:\n",
    "    '''Function to annotate texts in a column of a DataFrame. Needs an existing column \"annotation\".\n",
    "    \n",
    "        Parameters\n",
    "        ----------\n",
    "            df: pd.DataFrame\n",
    "                The DataFrame that includes a \"text\" column and a column \"annotation\".\n",
    "                \n",
    "            storage_path: str\n",
    "                Path where HDF storage is found to save data during annotation.\n",
    "        \n",
    "        Returns\n",
    "        -------\n",
    "            The DataFrame with the (partial) annotation.\n",
    "    '''\n",
    "    if \"text\" and \"annotation\" not in df.columns:\n",
    "        print(\"Please pass a DataFrame including 'text' and 'annotation' columns.\")\n",
    "    \n",
    "    try:\n",
    "        store = pd.HDFStore(storage_path+\"store.h5\")\n",
    "    except:\n",
    "        print(\"Storage not found, abort.\")\n",
    "        return df\n",
    "    \n",
    "    # annotation loop\n",
    "    \n",
    "    for i in range(len(df)):\n",
    "        continue_ = False\n",
    "        if df.loc[i, \"annotation\"] == -1:\n",
    "            while not continue_:\n",
    "                print(df.loc[i,\"text\"])\n",
    "                print()\n",
    "                time.sleep(0.2)\n",
    "                annotation = input(\"Please pass annotation (1/0): \")\n",
    "                confirm = input(f\"Confirm {annotation}? (y/n)\")\n",
    "                if confirm.lower() == \"y\":\n",
    "                    if annotation == \"1\":\n",
    "                        df.loc[i, \"annotation\"] = int(annotation)\n",
    "                        continue_ = True\n",
    "                    elif annotation == \"0\":\n",
    "                        df.loc[i, \"annotation\"] = int(annotation)\n",
    "                        continue_ = True\n",
    "                    else:\n",
    "                        print(\"Wrong annotation input, please redo!\")\n",
    "                        time.sleep()\n",
    "                    clear_output()\n",
    "            end = input(\"End annotations and save dataframe? (y/n)? \")\n",
    "            if end.lower() == \"y\":\n",
    "                    store[\"df_annotated\"] = df\n",
    "                    store.close()\n",
    "                    return df\n",
    "            clear_output()\n",
    "        \n",
    "    store[\"df_annotated\"] = df\n",
    "    store.close()\n",
    "    return df"
   ]
  },
  {
   "cell_type": "code",
   "execution_count": null,
   "id": "cd28b726",
   "metadata": {},
   "outputs": [],
   "source": [
    "# annotating tweets (not necessary here)\n",
    "#df = annotate(df)"
   ]
  },
  {
   "cell_type": "code",
   "execution_count": 6,
   "id": "2e2f0861",
   "metadata": {},
   "outputs": [
    {
     "name": "stdout",
     "output_type": "stream",
     "text": [
      "There are currently 601 tweets annotated!\n"
     ]
    }
   ],
   "source": [
    "print(f\"There are currently {len(df[df['annotation'] != -1])} tweets annotated!\")"
   ]
  },
  {
   "cell_type": "code",
   "execution_count": 7,
   "id": "43eec6a7",
   "metadata": {},
   "outputs": [
    {
     "name": "stdout",
     "output_type": "stream",
     "text": [
      "68.55% of the data are labeled 1.\n"
     ]
    }
   ],
   "source": [
    "print(f\"{(len(df[df['annotation'] == 1]) / len(df[df['annotation'] != -1])) * 100:.2f}% of the data are labeled 1.\")"
   ]
  },
  {
   "cell_type": "markdown",
   "id": "0ebc29a6",
   "metadata": {},
   "source": [
    "## Tf-idf transformation using scikit-learn\n",
    "The first thing we need to do is to enable our machine learning model to work with text. To do so, we will convert each text/tweet (often called \"documents\" in a machine learning context) into a vector in which each dimension represents a word in the vocabulary of all documents. We will only explain some details of this approach. If you want to know more, I recommend the [tutorial by Melanie Walsh](https://melaniewalsh.github.io/Intro-Cultural-Analytics/05-Text-Analysis/03-TF-IDF-Scikit-Learn.html).\n",
    "\n",
    "Let's assume we have two short texts:\n",
    "\n",
    "> we all live in a submarine\n",
    "\n",
    "> we live in a yellow submarine\n",
    "\n",
    "First, we create a vocabulary of these two sentences where each word has an index (the key in the dictionary):\n",
    "\n",
    "`{0: \"we\", 1: \"live\", 2: \"a\", 3: \"submarine\", 4: \"in\", 5: \"yellow\", 6: \"all\"}`\n",
    "\n",
    "Based on this vocabulary, we create a vector of each sentence using a Python list (or numpy array). In this list, the position/index is related to the word in the vocabulary dictionary with the corresponding key, and the numbers in the list at each position represents the frequency of the corresponding words in the sentence (which is always 1 or 0 in our example). For instance, the first position in the following lists `v1` and `v2` is related to the word `we`, which has the key `0` in the vocabulary/dictionary (and position `0` in the list). It appears only once in both sentences, so the value is `1`. \n",
    "\n",
    "v1: `[1, 1, 1, 1, 1, 0, 1]`\n",
    "\n",
    "v2: `[1, 1, 1, 1, 1, 1, 0]`\n",
    "\n",
    "You can create such document vectors with the absolute frequencies of each word per document using scikit-learn's `CountVectorizer()` class. We can now use these vectors to calculate the distance between both vectors, for instance using **Euclidean distance** (or other metrics, such as Manhattan distance):\n",
    "\n",
    "$\\sqrt{(v_{10}-v_{20})^2+(v_{11}-v_{21})^2+...+(v_{16}-v_{26})^2}$\n",
    "\n",
    "Which is $\\sqrt{2}$ in our example. Since Euclidean distance can become problematic in high dimensional spaces (the so-called *curse of dimensionality*), you might want to apply **cosine similarity** instead. And tf-idf transformed vectors can be very long, depending on the size of the vocabulary, and mostly consist of 0s and only very few other numbers (so-called *sparse vectors*).\n",
    "\n",
    "### Cosine similarity\n",
    "\n",
    "cosine similarity = $\\frac{\\vec{A} \\cdot \\vec{B}}{||\\vec{A}|| \\cdot ||\\vec{B}||}$\n",
    "\n",
    "This formula represents the cosine similarity between two vectors, A and B. The dot product of the vectors is represented by the symbol \"·\", and the magnitude of a vector is represented by the double vertical bars \"||\". Cosine similarity can take a value between -1 and 1 (-1: vectors point into opposite directions (= have an opposite meaning), 1: vectors point into the same direction (= have a similar meaning)).\n",
    "\n",
    "In our example, the cosine similarity is:\n",
    "\n",
    "$\\vec{A} \\cdot \\vec{B} = 1+1+1+1+1=5$\n",
    "\n",
    "$||\\vec{A}|| \\cdot ||\\vec{B}||=\\sqrt{6} \\cdot \\sqrt{6}= 6$ \n",
    "\n",
    "$\\frac{\\vec{A} \\cdot \\vec{B}}{||\\vec{A}|| \\cdot ||\\vec{B}||}= \\frac{5}{6}= 0.83$\n",
    "\n",
    "\n",
    "### But what is Tf-idf?\n",
    "\n",
    "Tf-idf stands for *term frequency - inverted document frequency* and is a measure to underline the importance of a word/term regarding its ability to distinguish documents from each other. For instance, a term such as \"the\" appears in almost every sentence is thus of no value for our calculations. Tf-idf helps us to get rid of these terms or make them less important for the similarity calculations (for instance, when using cosine similarity).\n",
    "\n",
    "**tf-idf = term_frequency \\* inverted_document_frequency**\n",
    "\n",
    "term_frequency = number of times a given term appears in document\n",
    "\n",
    "inverse_document_frequency = log(total number of documents / number of documents with term) + 1\n",
    "\n",
    "Transforming our two vectors via tf-idf leads to the following results (assuming we take the logarithm of 2):\n",
    "\n",
    "v1 = `[1, 1, 1, 1, 1, 0, 2]`\n",
    "\n",
    "v2 = `[1, 1, 1, 1, 1, 2, 0]`\n"
   ]
  },
  {
   "cell_type": "markdown",
   "id": "0044b52a",
   "metadata": {},
   "source": [
    "## Implementing tf-idf using scikit-learn\n",
    "Implementing tf-idf transformation with scikit-learn is very easy. We can use the `TfidfVectorizer()` class from the `feature_extraction.text` module (which is a comination of sklearn's `CountVectorizer()` and `TfidfTransformer()`)."
   ]
  },
  {
   "cell_type": "code",
   "execution_count": 8,
   "id": "db8dcc86",
   "metadata": {},
   "outputs": [],
   "source": [
    "from sklearn.feature_extraction.text import TfidfVectorizer"
   ]
  },
  {
   "cell_type": "markdown",
   "id": "18cd72c6",
   "metadata": {},
   "source": [
    "Next, we extract the features (`clean_text`) and the labels we want to predict (`annotation`) from our DataFrame. These will be used as the training data for our machine learning algorithm. By convention, the feature vectors are stored in variable called `X` and the labels in `y`. "
   ]
  },
  {
   "cell_type": "code",
   "execution_count": 9,
   "id": "bb1d5e17",
   "metadata": {},
   "outputs": [],
   "source": [
    "# get text data and labels\n",
    "\n",
    "X = df.loc[df[\"annotation\"] != -1, \"clean_text\"]\n",
    "y = df.loc[df[\"annotation\"] != -1, \"annotation\"]"
   ]
  },
  {
   "cell_type": "markdown",
   "id": "ab996f0b",
   "metadata": {},
   "source": [
    "In the subsequent phase, we instantiate our `TfidfVectorizer()` and convert our `X` data using tf-idf. We use the `fit_transform()` method, which is commonly utilized in the context of other sklearn models. It combines `fit()` (which trains the model based on the input data; in this case, training involves creating a vocabulary) and `transform()` (which transforms our input data and returns the modified data, implying it generates the document vectors for each `clean_text`). It's worth noting that we are already passing numerous arguments to the `TfidfVectorizer()` class, which is not required (we will discuss the different parameters shortly)."
   ]
  },
  {
   "cell_type": "code",
   "execution_count": 10,
   "id": "d7b356fd",
   "metadata": {},
   "outputs": [],
   "source": [
    "vectorizer = TfidfVectorizer(stop_words=\"english\", min_df=2, max_features=1000, ngram_range=(1,2))"
   ]
  },
  {
   "cell_type": "code",
   "execution_count": 11,
   "id": "59f28b9e",
   "metadata": {},
   "outputs": [],
   "source": [
    "X = vectorizer.fit_transform(X)"
   ]
  },
  {
   "cell_type": "markdown",
   "id": "7a50b1d5",
   "metadata": {},
   "source": [
    "We can check the results of the transformation:"
   ]
  },
  {
   "cell_type": "code",
   "execution_count": 12,
   "id": "40335d15",
   "metadata": {},
   "outputs": [
    {
     "data": {
      "text/plain": [
       "(601, 1000)"
      ]
     },
     "execution_count": 12,
     "metadata": {},
     "output_type": "execute_result"
    }
   ],
   "source": [
    "# show the shape of the documents\n",
    "# note that most entries are zero\n",
    "X.shape"
   ]
  },
  {
   "cell_type": "code",
   "execution_count": 13,
   "id": "a78f8c5b",
   "metadata": {},
   "outputs": [
    {
     "data": {
      "text/plain": [
       "<1x1000 sparse matrix of type '<class 'numpy.float64'>'\n",
       "\twith 14 stored elements in Compressed Sparse Row format>"
      ]
     },
     "execution_count": 13,
     "metadata": {},
     "output_type": "execute_result"
    }
   ],
   "source": [
    "X[1]"
   ]
  },
  {
   "cell_type": "code",
   "execution_count": 14,
   "id": "7ef5c8b7",
   "metadata": {},
   "outputs": [
    {
     "data": {
      "text/plain": [
       "array([0.05080766, 0.2807065 , 0.09960407, 0.05157635, 0.24835331,\n",
       "       0.42100499, 0.1677339 , 0.49670661, 0.2190125 , 0.2617811 ,\n",
       "       0.2702911 , 0.29413429, 0.24835331, 0.23348923])"
      ]
     },
     "execution_count": 14,
     "metadata": {},
     "output_type": "execute_result"
    }
   ],
   "source": [
    "# check the tf-idf values of the existing entries\n",
    "X[1].toarray()[X[1].toarray() != 0.]"
   ]
  },
  {
   "cell_type": "code",
   "execution_count": 15,
   "id": "6e2bbab5",
   "metadata": {},
   "outputs": [
    {
     "data": {
      "text/plain": [
       "[array(['climate crisis', 'change problem', 'rate climate', 'make',\n",
       "        'medium', 'push', 'scam', 'crisis', 'problem', 'rate', 'yes',\n",
       "        'climate change', 'change', 'climate'], dtype='<U20')]"
      ]
     },
     "execution_count": 15,
     "metadata": {},
     "output_type": "execute_result"
    }
   ],
   "source": [
    "# show the words/n-grams represented in this vector\n",
    "vectorizer.inverse_transform(X[1])"
   ]
  },
  {
   "cell_type": "markdown",
   "id": "b34752fc",
   "metadata": {},
   "source": [
    "## Train/test split\n",
    "As previously explained, it is common practice to split the data into a train and test set. We will separate the data set into 80% training and 20% test data using sklearn's `train_test_split()` function (that applies stratified sampling by default)."
   ]
  },
  {
   "cell_type": "code",
   "execution_count": 16,
   "id": "9c4b4192",
   "metadata": {},
   "outputs": [],
   "source": [
    "from sklearn.model_selection import train_test_split\n",
    "\n",
    "X_train, X_test, y_train, y_test = train_test_split(X, y, test_size=0.2)"
   ]
  },
  {
   "cell_type": "markdown",
   "id": "ca3050e8",
   "metadata": {},
   "source": [
    "## Training a random forest classifier\n",
    "Finally, we can train our machine learning model (a random forest) using the previously annotated and tf-idf transformed data. As you can see, training the model only takes three lines of code!"
   ]
  },
  {
   "cell_type": "code",
   "execution_count": 17,
   "id": "5fb51514",
   "metadata": {},
   "outputs": [],
   "source": [
    "from sklearn.ensemble import RandomForestClassifier"
   ]
  },
  {
   "cell_type": "code",
   "execution_count": 18,
   "id": "0c0757d0",
   "metadata": {},
   "outputs": [],
   "source": [
    "rf = RandomForestClassifier()"
   ]
  },
  {
   "cell_type": "code",
   "execution_count": 19,
   "id": "dfd38d13",
   "metadata": {},
   "outputs": [
    {
     "data": {
      "text/html": [
       "<style>#sk-container-id-1 {color: black;background-color: white;}#sk-container-id-1 pre{padding: 0;}#sk-container-id-1 div.sk-toggleable {background-color: white;}#sk-container-id-1 label.sk-toggleable__label {cursor: pointer;display: block;width: 100%;margin-bottom: 0;padding: 0.3em;box-sizing: border-box;text-align: center;}#sk-container-id-1 label.sk-toggleable__label-arrow:before {content: \"▸\";float: left;margin-right: 0.25em;color: #696969;}#sk-container-id-1 label.sk-toggleable__label-arrow:hover:before {color: black;}#sk-container-id-1 div.sk-estimator:hover label.sk-toggleable__label-arrow:before {color: black;}#sk-container-id-1 div.sk-toggleable__content {max-height: 0;max-width: 0;overflow: hidden;text-align: left;background-color: #f0f8ff;}#sk-container-id-1 div.sk-toggleable__content pre {margin: 0.2em;color: black;border-radius: 0.25em;background-color: #f0f8ff;}#sk-container-id-1 input.sk-toggleable__control:checked~div.sk-toggleable__content {max-height: 200px;max-width: 100%;overflow: auto;}#sk-container-id-1 input.sk-toggleable__control:checked~label.sk-toggleable__label-arrow:before {content: \"▾\";}#sk-container-id-1 div.sk-estimator input.sk-toggleable__control:checked~label.sk-toggleable__label {background-color: #d4ebff;}#sk-container-id-1 div.sk-label input.sk-toggleable__control:checked~label.sk-toggleable__label {background-color: #d4ebff;}#sk-container-id-1 input.sk-hidden--visually {border: 0;clip: rect(1px 1px 1px 1px);clip: rect(1px, 1px, 1px, 1px);height: 1px;margin: -1px;overflow: hidden;padding: 0;position: absolute;width: 1px;}#sk-container-id-1 div.sk-estimator {font-family: monospace;background-color: #f0f8ff;border: 1px dotted black;border-radius: 0.25em;box-sizing: border-box;margin-bottom: 0.5em;}#sk-container-id-1 div.sk-estimator:hover {background-color: #d4ebff;}#sk-container-id-1 div.sk-parallel-item::after {content: \"\";width: 100%;border-bottom: 1px solid gray;flex-grow: 1;}#sk-container-id-1 div.sk-label:hover label.sk-toggleable__label {background-color: #d4ebff;}#sk-container-id-1 div.sk-serial::before {content: \"\";position: absolute;border-left: 1px solid gray;box-sizing: border-box;top: 0;bottom: 0;left: 50%;z-index: 0;}#sk-container-id-1 div.sk-serial {display: flex;flex-direction: column;align-items: center;background-color: white;padding-right: 0.2em;padding-left: 0.2em;position: relative;}#sk-container-id-1 div.sk-item {position: relative;z-index: 1;}#sk-container-id-1 div.sk-parallel {display: flex;align-items: stretch;justify-content: center;background-color: white;position: relative;}#sk-container-id-1 div.sk-item::before, #sk-container-id-1 div.sk-parallel-item::before {content: \"\";position: absolute;border-left: 1px solid gray;box-sizing: border-box;top: 0;bottom: 0;left: 50%;z-index: -1;}#sk-container-id-1 div.sk-parallel-item {display: flex;flex-direction: column;z-index: 1;position: relative;background-color: white;}#sk-container-id-1 div.sk-parallel-item:first-child::after {align-self: flex-end;width: 50%;}#sk-container-id-1 div.sk-parallel-item:last-child::after {align-self: flex-start;width: 50%;}#sk-container-id-1 div.sk-parallel-item:only-child::after {width: 0;}#sk-container-id-1 div.sk-dashed-wrapped {border: 1px dashed gray;margin: 0 0.4em 0.5em 0.4em;box-sizing: border-box;padding-bottom: 0.4em;background-color: white;}#sk-container-id-1 div.sk-label label {font-family: monospace;font-weight: bold;display: inline-block;line-height: 1.2em;}#sk-container-id-1 div.sk-label-container {text-align: center;}#sk-container-id-1 div.sk-container {/* jupyter's `normalize.less` sets `[hidden] { display: none; }` but bootstrap.min.css set `[hidden] { display: none !important; }` so we also need the `!important` here to be able to override the default hidden behavior on the sphinx rendered scikit-learn.org. See: https://github.com/scikit-learn/scikit-learn/issues/21755 */display: inline-block !important;position: relative;}#sk-container-id-1 div.sk-text-repr-fallback {display: none;}</style><div id=\"sk-container-id-1\" class=\"sk-top-container\"><div class=\"sk-text-repr-fallback\"><pre>RandomForestClassifier()</pre><b>In a Jupyter environment, please rerun this cell to show the HTML representation or trust the notebook. <br />On GitHub, the HTML representation is unable to render, please try loading this page with nbviewer.org.</b></div><div class=\"sk-container\" hidden><div class=\"sk-item\"><div class=\"sk-estimator sk-toggleable\"><input class=\"sk-toggleable__control sk-hidden--visually\" id=\"sk-estimator-id-1\" type=\"checkbox\" checked><label for=\"sk-estimator-id-1\" class=\"sk-toggleable__label sk-toggleable__label-arrow\">RandomForestClassifier</label><div class=\"sk-toggleable__content\"><pre>RandomForestClassifier()</pre></div></div></div></div></div>"
      ],
      "text/plain": [
       "RandomForestClassifier()"
      ]
     },
     "execution_count": 19,
     "metadata": {},
     "output_type": "execute_result"
    }
   ],
   "source": [
    "rf.fit(X_train, y_train)"
   ]
  },
  {
   "cell_type": "markdown",
   "id": "839db810",
   "metadata": {},
   "source": [
    "Let us check the quality of our model by predicting the data in our test set:"
   ]
  },
  {
   "cell_type": "code",
   "execution_count": 20,
   "id": "f2664b9c",
   "metadata": {},
   "outputs": [
    {
     "name": "stdout",
     "output_type": "stream",
     "text": [
      "Accuracy: 0.74\n"
     ]
    }
   ],
   "source": [
    "# Evaluate the classifier\n",
    "accuracy = rf.score(X_test, y_test)\n",
    "print(f\"Accuracy: {accuracy:.2f}\")"
   ]
  },
  {
   "cell_type": "markdown",
   "id": "63720862",
   "metadata": {},
   "source": [
    "This seems to be a reasonable initial attempt and is substantially better than random guessing. However, we should bear in mind that we are interested in accurately predicting both labels since we want to analyze both the positive and negative tweets. As a result, we should also evaluate the precision, recall, f1 scores, and the confusion matrix."
   ]
  },
  {
   "cell_type": "markdown",
   "id": "c4fc88dd",
   "metadata": {},
   "source": [
    "### Confusion matrix"
   ]
  },
  {
   "cell_type": "code",
   "execution_count": 21,
   "id": "8961aec3",
   "metadata": {},
   "outputs": [],
   "source": [
    "from sklearn.metrics import confusion_matrix, ConfusionMatrixDisplay\n",
    "import matplotlib.pyplot as plt\n",
    "\n",
    "# make predictions on the test set\n",
    "predictions = rf.predict(X_test)\n",
    "\n",
    "# create a confusion matrix\n",
    "confusion_matrix = confusion_matrix(y_test, predictions)"
   ]
  },
  {
   "cell_type": "code",
   "execution_count": 22,
   "id": "42ef0812",
   "metadata": {},
   "outputs": [
    {
     "data": {
      "text/plain": [
       "<sklearn.metrics._plot.confusion_matrix.ConfusionMatrixDisplay at 0x7fcc80cb5fa0>"
      ]
     },
     "execution_count": 22,
     "metadata": {},
     "output_type": "execute_result"
    },
    {
     "data": {
      "image/png": "[encoded data removed]",
      "text/plain": [
       "<Figure size 640x480 with 2 Axes>"
      ]
     },
     "metadata": {},
     "output_type": "display_data"
    }
   ],
   "source": [
    "plot_ = ConfusionMatrixDisplay(confusion_matrix=confusion_matrix, display_labels=rf.classes_)\n",
    "\n",
    "plot_.plot()"
   ]
  },
  {
   "cell_type": "markdown",
   "id": "daf2e2c5",
   "metadata": {},
   "source": [
    "This looks pretty underwhelming since most of our data has been labeled as 1! Let's check the precision, recall, and f1 scores."
   ]
  },
  {
   "cell_type": "markdown",
   "id": "7f746034",
   "metadata": {},
   "source": [
    "### Precision, Recall, and F<sub>1</sub> scores for the \"1\" label"
   ]
  },
  {
   "cell_type": "code",
   "execution_count": 23,
   "id": "a18d4c1e",
   "metadata": {},
   "outputs": [],
   "source": [
    "from sklearn.metrics import f1_score, precision_score, recall_score"
   ]
  },
  {
   "cell_type": "code",
   "execution_count": 24,
   "id": "7bac31a1",
   "metadata": {},
   "outputs": [
    {
     "data": {
      "text/plain": [
       "0.7647058823529411"
      ]
     },
     "execution_count": 24,
     "metadata": {},
     "output_type": "execute_result"
    }
   ],
   "source": [
    "precision_score(y_test, predictions)"
   ]
  },
  {
   "cell_type": "code",
   "execution_count": 25,
   "id": "e9fb9f90",
   "metadata": {},
   "outputs": [
    {
     "data": {
      "text/plain": [
       "0.9069767441860465"
      ]
     },
     "execution_count": 25,
     "metadata": {},
     "output_type": "execute_result"
    }
   ],
   "source": [
    "recall_score(y_test, predictions)"
   ]
  },
  {
   "cell_type": "code",
   "execution_count": 26,
   "id": "be7466fb",
   "metadata": {},
   "outputs": [
    {
     "data": {
      "text/plain": [
       "0.8297872340425532"
      ]
     },
     "execution_count": 26,
     "metadata": {},
     "output_type": "execute_result"
    }
   ],
   "source": [
    "f1_score(y_test, predictions)"
   ]
  },
  {
   "cell_type": "markdown",
   "id": "bb0a3cd8",
   "metadata": {},
   "source": [
    "### Precision, Recall, and F<sub>1</sub> scores for the \"0\" label"
   ]
  },
  {
   "cell_type": "code",
   "execution_count": 27,
   "id": "c9ecece3",
   "metadata": {},
   "outputs": [
    {
     "data": {
      "text/plain": [
       "0.5789473684210527"
      ]
     },
     "execution_count": 27,
     "metadata": {},
     "output_type": "execute_result"
    }
   ],
   "source": [
    "precision_score(y_test, predictions, pos_label=0)"
   ]
  },
  {
   "cell_type": "code",
   "execution_count": 28,
   "id": "701afd77",
   "metadata": {},
   "outputs": [
    {
     "data": {
      "text/plain": [
       "0.3142857142857143"
      ]
     },
     "execution_count": 28,
     "metadata": {},
     "output_type": "execute_result"
    }
   ],
   "source": [
    "recall_score(y_test, predictions, pos_label=0)"
   ]
  },
  {
   "cell_type": "code",
   "execution_count": 29,
   "id": "3d38fcd2",
   "metadata": {},
   "outputs": [
    {
     "data": {
      "text/plain": [
       "0.40740740740740744"
      ]
     },
     "execution_count": 29,
     "metadata": {},
     "output_type": "execute_result"
    }
   ],
   "source": [
    "f1_score(y_test, predictions, pos_label=0)"
   ]
  },
  {
   "cell_type": "markdown",
   "id": "95c95017",
   "metadata": {},
   "source": [
    "As we can see, the results for our negative label are horrible, and we should certainly do something about this. Because in its current state, our classifier is pretty useless.\n",
    "\n",
    "### How can we improve the performance of our machine learning model?\n",
    "\n",
    "1. Initially, we should **annotate more data** while paying attention to the annotation quality, such as ambiguous cases or incorrect annotations. Working in teams can also be beneficial. Additionally, we should reconsider binary classification: is it sensible in light of the data? Or should we include additional classes for more refined annotations?\n",
    "2. We can explore alternative machine learning algorithms. Perhaps random forests are unsuitable, and we should consider k-nearest neighbors or a naive Bayesian classifier?\n",
    "3. We can employ cross-validation to gain a better understanding of how our model performs when trained on various combinations of our training set.\n",
    "4. We could begin with hyper-parameter tuning. This entails testing various values for both the vectorizer and the ML algorithm while constructing/training our `TfidfVectorizer()` and `RandomForests()` model. We will accomplish this using [GridSearchCV](https://scikit-learn.org/stable/modules/generated/sklearn.model_selection.GridSearchCV.html#sklearn.model_selection.GridSearchCV), which is a relatively advanced technique, but it is also feasible to manually experiment with different combinations of arguments passed to the individual models."
   ]
  },
  {
   "cell_type": "markdown",
   "id": "9f39f74f",
   "metadata": {},
   "source": [
    "## Cross validation\n",
    "\n",
    "Cross-validation is a resampling procedure used to evaluate the performance of machine learning models. It works by dividing the data into a number of folds (also called splits), and then training the model on one fold and evaluating it on the remaining folds. This process is repeated for each fold, and the model is trained and evaluated multiple times. The final performance metric is then calculated as the average performance across all folds.\n",
    "\n",
    "![Source: https://scikit-learn.org/stable/_images/grid_search_cross_validation.png](grid_search_cross_validation.png)"
   ]
  },
  {
   "cell_type": "code",
   "execution_count": null,
   "id": "1faa4e10",
   "metadata": {},
   "outputs": [],
   "source": [
    "from sklearn.model_selection import cross_val_score\n",
    "\n",
    "# Evaluate the classifier using cross-validation\n",
    "scores = cross_val_score(rf, X_train, y_train, cv=5)\n",
    "\n",
    "# Print the average accuracy and standard deviation\n",
    "print(f\"Accuracy: {scores.mean():.2f} (+/- {scores.std() * 2:.2f})\")"
   ]
  },
  {
   "cell_type": "markdown",
   "id": "cc7a69f1",
   "metadata": {},
   "source": [
    "## *Advanced*: Hyper-Parameter tuning (random forests)\n",
    "Please note that you can do the following steps also manually by just trying different arguments. In this part, we will systematically try out different combinations of arguments in order to find the combination that leads to the best performing classifier. To do so, we will create a **pipeline** first that includes our vectorizer and the random forest classifier."
   ]
  },
  {
   "cell_type": "code",
   "execution_count": 30,
   "id": "9965adb2",
   "metadata": {},
   "outputs": [],
   "source": [
    "from sklearn.model_selection import GridSearchCV\n",
    "from sklearn.pipeline import make_pipeline"
   ]
  },
  {
   "cell_type": "markdown",
   "id": "f3c9d48d",
   "metadata": {},
   "source": [
    "First, we need to renew our `X` and `y` data, because we have decided to work with a pipeline that accepts pure texts (our current `X` variable refers to the tf-idf transformed document vectors)."
   ]
  },
  {
   "cell_type": "code",
   "execution_count": 31,
   "id": "870bf91b",
   "metadata": {},
   "outputs": [],
   "source": [
    "df = store[\"df_annotated\"]\n",
    "df = df[df[\"annotation\"] != -1]\n",
    "\n",
    "X_train, X_test, y_train, y_test = train_test_split(df[\"clean_text\"].to_numpy(), df[\"annotation\"].to_numpy(), test_size=0.2)"
   ]
  },
  {
   "cell_type": "markdown",
   "id": "6b6485aa",
   "metadata": {},
   "source": [
    "Next, we create a pipeline. The advantage of using a pipeline is that we can now directly pass texts to our pipeline, which are first tf-idf transformed and then forwarded as vectors to our machine learning model."
   ]
  },
  {
   "cell_type": "code",
   "execution_count": 32,
   "id": "643033a9",
   "metadata": {},
   "outputs": [],
   "source": [
    "pipeline_rf = make_pipeline(TfidfVectorizer(), RandomForestClassifier())"
   ]
  },
  {
   "cell_type": "markdown",
   "id": "3e67e242",
   "metadata": {},
   "source": [
    "For the GridSearch, we define a dictionary with all arguments that we would like to try when training our classifier (and when using the `TfidfVectorizer()`). **Important:** This can take a pretty long time, since there are 3 x 3 x 3 x 2 x 3 x 3 x 3 = 1.458 combinations here!\n",
    "\n",
    "Also note that we are using \"balanced_accurary\" as a scoring measure instead of \"accuracy\" because we are interested in a precise labeling of both labels (not only the positive ones)."
   ]
  },
  {
   "cell_type": "code",
   "execution_count": 33,
   "id": "f618f9b5",
   "metadata": {},
   "outputs": [],
   "source": [
    "param_dict = {\n",
    "    'tfidfvectorizer__max_df': [1.0, 0.5, 0.25],\n",
    "    'tfidfvectorizer__max_features': [None, 500, 1000],\n",
    "    'tfidfvectorizer__ngram_range': [(1, 1), (1,2), (1,3)],\n",
    "    'tfidfvectorizer__stop_words': [None, 'english'],\n",
    "    'tfidfvectorizer__min_df': [1,2,3],\n",
    "    'randomforestclassifier__min_samples_leaf': [1,10,25],\n",
    "    'randomforestclassifier__n_estimators': [100, 150, 200]\n",
    "}"
   ]
  },
  {
   "cell_type": "code",
   "execution_count": null,
   "id": "afe94a7a",
   "metadata": {},
   "outputs": [],
   "source": [
    "# only uncomment this line if you really want to start the GridSearch (which can take 10+ minutes)\n",
    "#clf = GridSearchCV(pipeline_rf, param_dict, scoring='balanced_accuracy')\n",
    "# clf.fit(X_train, y_train)"
   ]
  },
  {
   "cell_type": "code",
   "execution_count": 34,
   "id": "a88c7b66",
   "metadata": {},
   "outputs": [
    {
     "ename": "NameError",
     "evalue": "name 'clf' is not defined",
     "output_type": "error",
     "traceback": [
      "\u001b[0;31m---------------------------------------------------------------------------\u001b[0m",
      "\u001b[0;31mNameError\u001b[0m                                 Traceback (most recent call last)",
      "Cell \u001b[0;32mIn [34], line 2\u001b[0m\n\u001b[1;32m      1\u001b[0m \u001b[38;5;66;03m# let's check which model performed best\u001b[39;00m\n\u001b[0;32m----> 2\u001b[0m pd\u001b[38;5;241m.\u001b[39mDataFrame\u001b[38;5;241m.\u001b[39mfrom_dict(\u001b[43mclf\u001b[49m\u001b[38;5;241m.\u001b[39mcv_results_)\u001b[38;5;241m.\u001b[39msort_values(\u001b[38;5;124m\"\u001b[39m\u001b[38;5;124mmean_test_score\u001b[39m\u001b[38;5;124m\"\u001b[39m, ascending\u001b[38;5;241m=\u001b[39m\u001b[38;5;28;01mFalse\u001b[39;00m)\u001b[38;5;241m.\u001b[39miloc[\u001b[38;5;241m0\u001b[39m]\n",
      "\u001b[0;31mNameError\u001b[0m: name 'clf' is not defined"
     ]
    }
   ],
   "source": [
    "# let's check which model performed best\n",
    "pd.DataFrame.from_dict(clf.cv_results_).sort_values(\"mean_test_score\", ascending=False).iloc[0]"
   ]
  },
  {
   "cell_type": "markdown",
   "id": "61cbf13c",
   "metadata": {},
   "source": [
    "The best parameter found by `GridSearchCV` are:\n",
    "\n",
    "```\n",
    "mean_fit_time                                                                              0.197549\n",
    "std_fit_time                                                                               0.005809\n",
    "mean_score_time                                                                            0.012872\n",
    "std_score_time                                                                             0.000222\n",
    "param_randomforestclassifier__min_samples_leaf                                                    1\n",
    "param_randomforestclassifier__n_estimators                                                      200\n",
    "param_tfidfvectorizer__max_df                                                                   0.5\n",
    "param_tfidfvectorizer__max_features                                                             500\n",
    "param_tfidfvectorizer__min_df                                                                     2\n",
    "param_tfidfvectorizer__ngram_range                                                           (1, 1)\n",
    "param_tfidfvectorizer__stop_words                                                           english\n",
    "params                                            {'randomforestclassifier__min_samples_leaf': 1...\n",
    "split0_test_score                                                                          0.613636\n",
    "split1_test_score                                                                          0.614685\n",
    "split2_test_score                                                                           0.68951\n",
    "split3_test_score                                                                          0.706643\n",
    "split4_test_score                                                                          0.683636\n",
    "mean_test_score                                                                            0.661622\n",
    "std_test_score                                                                             0.039484\n",
    "rank_test_score                                                                                   1\n",
    "\n",
    "```"
   ]
  },
  {
   "cell_type": "markdown",
   "id": "f8c55480",
   "metadata": {},
   "source": [
    "## Save the best model for later use\n",
    "Since GridSearchCV can take a lot of time, we should save the best estimator found by GridSearch for later use (so that we do not have to redo the search every single time to get the best model). "
   ]
  },
  {
   "cell_type": "code",
   "execution_count": null,
   "id": "aa076a7f",
   "metadata": {},
   "outputs": [],
   "source": [
    "import joblib\n",
    "import pickle\n",
    "\n",
    "# save\n",
    "joblib.dump(clf.best_estimator_, \"best_rf.pkl\")"
   ]
  },
  {
   "cell_type": "code",
   "execution_count": 35,
   "id": "e2440d17",
   "metadata": {},
   "outputs": [],
   "source": [
    "import joblib\n",
    "# load\n",
    "rf_best = joblib.load(\"best_rf.pkl\")"
   ]
  },
  {
   "cell_type": "markdown",
   "id": "27ef007b",
   "metadata": {},
   "source": [
    "Let's check the performance of our model found by GridSearch:"
   ]
  },
  {
   "cell_type": "markdown",
   "id": "fd69cba8",
   "metadata": {},
   "source": [
    "## Confusion matrix"
   ]
  },
  {
   "cell_type": "code",
   "execution_count": 36,
   "id": "b054d445",
   "metadata": {},
   "outputs": [],
   "source": [
    "from sklearn.metrics import confusion_matrix\n",
    "\n",
    "# make predictions on the test set\n",
    "predictions = rf_best.predict(X_test)\n",
    "\n",
    "# create a confusion matrix\n",
    "confusion_matrix = confusion_matrix(y_test, predictions)"
   ]
  },
  {
   "cell_type": "code",
   "execution_count": 37,
   "id": "dbcf5184",
   "metadata": {},
   "outputs": [
    {
     "data": {
      "text/plain": [
       "<sklearn.metrics._plot.confusion_matrix.ConfusionMatrixDisplay at 0x7fccd66e03a0>"
      ]
     },
     "execution_count": 37,
     "metadata": {},
     "output_type": "execute_result"
    },
    {
     "data": {
      "image/png": "[encoded data removed]",
      "text/plain": [
       "<Figure size 640x480 with 2 Axes>"
      ]
     },
     "metadata": {},
     "output_type": "display_data"
    }
   ],
   "source": [
    "plot_ = ConfusionMatrixDisplay(confusion_matrix=confusion_matrix, display_labels=rf.classes_)\n",
    "\n",
    "plot_.plot()"
   ]
  },
  {
   "cell_type": "markdown",
   "id": "87cf0ffe",
   "metadata": {},
   "source": [
    "## Precision, Recall, and F<sub>1</sub> scores for the \"1\" label"
   ]
  },
  {
   "cell_type": "code",
   "execution_count": 38,
   "id": "ca4021a2",
   "metadata": {},
   "outputs": [
    {
     "data": {
      "text/plain": [
       "0.9166666666666666"
      ]
     },
     "execution_count": 38,
     "metadata": {},
     "output_type": "execute_result"
    }
   ],
   "source": [
    "precision_score(y_test, predictions)"
   ]
  },
  {
   "cell_type": "code",
   "execution_count": 39,
   "id": "257c2fcb",
   "metadata": {},
   "outputs": [
    {
     "data": {
      "text/plain": [
       "0.9058823529411765"
      ]
     },
     "execution_count": 39,
     "metadata": {},
     "output_type": "execute_result"
    }
   ],
   "source": [
    "recall_score(y_test, predictions)"
   ]
  },
  {
   "cell_type": "code",
   "execution_count": 40,
   "id": "8529e69a",
   "metadata": {},
   "outputs": [
    {
     "data": {
      "text/plain": [
       "0.9112426035502958"
      ]
     },
     "execution_count": 40,
     "metadata": {},
     "output_type": "execute_result"
    }
   ],
   "source": [
    "f1_score(y_test, predictions)"
   ]
  },
  {
   "cell_type": "markdown",
   "id": "5c44b7f6",
   "metadata": {},
   "source": [
    "## Precision, Recall, and F<sub>1</sub> scores for the \"0\" label"
   ]
  },
  {
   "cell_type": "code",
   "execution_count": 41,
   "id": "d68de344",
   "metadata": {},
   "outputs": [
    {
     "data": {
      "text/plain": [
       "0.7837837837837838"
      ]
     },
     "execution_count": 41,
     "metadata": {},
     "output_type": "execute_result"
    }
   ],
   "source": [
    "precision_score(y_test, predictions, pos_label=0)"
   ]
  },
  {
   "cell_type": "code",
   "execution_count": 42,
   "id": "d254eb18",
   "metadata": {},
   "outputs": [
    {
     "data": {
      "text/plain": [
       "0.8055555555555556"
      ]
     },
     "execution_count": 42,
     "metadata": {},
     "output_type": "execute_result"
    }
   ],
   "source": [
    "recall_score(y_test, predictions, pos_label=0)"
   ]
  },
  {
   "cell_type": "code",
   "execution_count": 43,
   "id": "d42c324e",
   "metadata": {},
   "outputs": [
    {
     "data": {
      "text/plain": [
       "0.7945205479452055"
      ]
     },
     "execution_count": 43,
     "metadata": {},
     "output_type": "execute_result"
    }
   ],
   "source": [
    "f1_score(y_test, predictions, pos_label=0)"
   ]
  },
  {
   "cell_type": "markdown",
   "id": "7561eab2",
   "metadata": {},
   "source": [
    "This looks much better! Even though the scores are still far from perfect, tuning the hyper-parameters certainly helped a great deal in increasing its overall performance (we increased the f1 score of our negative labels from 0.36 to 0.86!!!)."
   ]
  },
  {
   "cell_type": "markdown",
   "id": "7481785f",
   "metadata": {},
   "source": [
    "# Hands-On: Training a KNN classifier\n",
    "In this part, it is up to you to train your own KNN classifier."
   ]
  },
  {
   "cell_type": "code",
   "execution_count": null,
   "id": "821d0319",
   "metadata": {},
   "outputs": [],
   "source": []
  }
 ],
 "metadata": {
  "kernelspec": {
   "display_name": "Python 3 (ipykernel)",
   "language": "python",
   "name": "python3"
  },
  "language_info": {
   "codemirror_mode": {
    "name": "ipython",
    "version": 3
   },
   "file_extension": ".py",
   "mimetype": "text/x-python",
   "name": "python",
   "nbconvert_exporter": "python",
   "pygments_lexer": "ipython3",
   "version": "3.8.10"
  }
 },
 "nbformat": 4,
 "nbformat_minor": 5
}
